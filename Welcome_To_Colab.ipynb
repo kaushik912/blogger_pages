{
  "cells": [
    {
      "cell_type": "markdown",
      "metadata": {
        "id": "view-in-github",
        "colab_type": "text"
      },
      "source": [
        "<a href=\"https://colab.research.google.com/github/kaushik912/blogger_pages/blob/main/Welcome_To_Colab.ipynb\" target=\"_parent\"><img src=\"https://colab.research.google.com/assets/colab-badge.svg\" alt=\"Open In Colab\"/></a>"
      ]
    },
    {
      "cell_type": "code",
      "source": [
        "!pip install openai langchain_core langchain_openai"
      ],
      "metadata": {
        "id": "O6MUSHvT0Y6A",
        "outputId": "a92768cb-4474-424b-8e26-20fc84f4f37c",
        "colab": {
          "base_uri": "https://localhost:8080/"
        }
      },
      "execution_count": 1,
      "outputs": [
        {
          "output_type": "stream",
          "name": "stdout",
          "text": [
            "Requirement already satisfied: openai in /usr/local/lib/python3.10/dist-packages (1.54.5)\n",
            "Requirement already satisfied: langchain_core in /usr/local/lib/python3.10/dist-packages (0.3.24)\n",
            "Collecting langchain_openai\n",
            "  Downloading langchain_openai-0.2.12-py3-none-any.whl.metadata (2.7 kB)\n",
            "Requirement already satisfied: anyio<5,>=3.5.0 in /usr/local/lib/python3.10/dist-packages (from openai) (3.7.1)\n",
            "Requirement already satisfied: distro<2,>=1.7.0 in /usr/local/lib/python3.10/dist-packages (from openai) (1.9.0)\n",
            "Requirement already satisfied: httpx<1,>=0.23.0 in /usr/local/lib/python3.10/dist-packages (from openai) (0.28.1)\n",
            "Requirement already satisfied: jiter<1,>=0.4.0 in /usr/local/lib/python3.10/dist-packages (from openai) (0.8.2)\n",
            "Requirement already satisfied: pydantic<3,>=1.9.0 in /usr/local/lib/python3.10/dist-packages (from openai) (2.10.3)\n",
            "Requirement already satisfied: sniffio in /usr/local/lib/python3.10/dist-packages (from openai) (1.3.1)\n",
            "Requirement already satisfied: tqdm>4 in /usr/local/lib/python3.10/dist-packages (from openai) (4.66.6)\n",
            "Requirement already satisfied: typing-extensions<5,>=4.11 in /usr/local/lib/python3.10/dist-packages (from openai) (4.12.2)\n",
            "Requirement already satisfied: PyYAML>=5.3 in /usr/local/lib/python3.10/dist-packages (from langchain_core) (6.0.2)\n",
            "Requirement already satisfied: jsonpatch<2.0,>=1.33 in /usr/local/lib/python3.10/dist-packages (from langchain_core) (1.33)\n",
            "Requirement already satisfied: langsmith<0.3,>=0.1.125 in /usr/local/lib/python3.10/dist-packages (from langchain_core) (0.2.2)\n",
            "Requirement already satisfied: packaging<25,>=23.2 in /usr/local/lib/python3.10/dist-packages (from langchain_core) (24.2)\n",
            "Requirement already satisfied: tenacity!=8.4.0,<10.0.0,>=8.1.0 in /usr/local/lib/python3.10/dist-packages (from langchain_core) (9.0.0)\n",
            "Collecting openai\n",
            "  Downloading openai-1.57.4-py3-none-any.whl.metadata (24 kB)\n",
            "Collecting tiktoken<1,>=0.7 (from langchain_openai)\n",
            "  Downloading tiktoken-0.8.0-cp310-cp310-manylinux_2_17_x86_64.manylinux2014_x86_64.whl.metadata (6.6 kB)\n",
            "Requirement already satisfied: idna>=2.8 in /usr/local/lib/python3.10/dist-packages (from anyio<5,>=3.5.0->openai) (3.10)\n",
            "Requirement already satisfied: exceptiongroup in /usr/local/lib/python3.10/dist-packages (from anyio<5,>=3.5.0->openai) (1.2.2)\n",
            "Requirement already satisfied: certifi in /usr/local/lib/python3.10/dist-packages (from httpx<1,>=0.23.0->openai) (2024.8.30)\n",
            "Requirement already satisfied: httpcore==1.* in /usr/local/lib/python3.10/dist-packages (from httpx<1,>=0.23.0->openai) (1.0.7)\n",
            "Requirement already satisfied: h11<0.15,>=0.13 in /usr/local/lib/python3.10/dist-packages (from httpcore==1.*->httpx<1,>=0.23.0->openai) (0.14.0)\n",
            "Requirement already satisfied: jsonpointer>=1.9 in /usr/local/lib/python3.10/dist-packages (from jsonpatch<2.0,>=1.33->langchain_core) (3.0.0)\n",
            "Requirement already satisfied: orjson<4.0.0,>=3.9.14 in /usr/local/lib/python3.10/dist-packages (from langsmith<0.3,>=0.1.125->langchain_core) (3.10.12)\n",
            "Requirement already satisfied: requests<3,>=2 in /usr/local/lib/python3.10/dist-packages (from langsmith<0.3,>=0.1.125->langchain_core) (2.32.3)\n",
            "Requirement already satisfied: requests-toolbelt<2.0.0,>=1.0.0 in /usr/local/lib/python3.10/dist-packages (from langsmith<0.3,>=0.1.125->langchain_core) (1.0.0)\n",
            "Requirement already satisfied: annotated-types>=0.6.0 in /usr/local/lib/python3.10/dist-packages (from pydantic<3,>=1.9.0->openai) (0.7.0)\n",
            "Requirement already satisfied: pydantic-core==2.27.1 in /usr/local/lib/python3.10/dist-packages (from pydantic<3,>=1.9.0->openai) (2.27.1)\n",
            "Requirement already satisfied: regex>=2022.1.18 in /usr/local/lib/python3.10/dist-packages (from tiktoken<1,>=0.7->langchain_openai) (2024.9.11)\n",
            "Requirement already satisfied: charset-normalizer<4,>=2 in /usr/local/lib/python3.10/dist-packages (from requests<3,>=2->langsmith<0.3,>=0.1.125->langchain_core) (3.4.0)\n",
            "Requirement already satisfied: urllib3<3,>=1.21.1 in /usr/local/lib/python3.10/dist-packages (from requests<3,>=2->langsmith<0.3,>=0.1.125->langchain_core) (2.2.3)\n",
            "Downloading langchain_openai-0.2.12-py3-none-any.whl (50 kB)\n",
            "\u001b[2K   \u001b[90m━━━━━━━━━━━━━━━━━━━━━━━━━━━━━━━━━━━━━━━━\u001b[0m \u001b[32m50.7/50.7 kB\u001b[0m \u001b[31m2.0 MB/s\u001b[0m eta \u001b[36m0:00:00\u001b[0m\n",
            "\u001b[?25hDownloading openai-1.57.4-py3-none-any.whl (390 kB)\n",
            "\u001b[2K   \u001b[90m━━━━━━━━━━━━━━━━━━━━━━━━━━━━━━━━━━━━━━━━\u001b[0m \u001b[32m390.3/390.3 kB\u001b[0m \u001b[31m11.7 MB/s\u001b[0m eta \u001b[36m0:00:00\u001b[0m\n",
            "\u001b[?25hDownloading tiktoken-0.8.0-cp310-cp310-manylinux_2_17_x86_64.manylinux2014_x86_64.whl (1.2 MB)\n",
            "\u001b[2K   \u001b[90m━━━━━━━━━━━━━━━━━━━━━━━━━━━━━━━━━━━━━━━━\u001b[0m \u001b[32m1.2/1.2 MB\u001b[0m \u001b[31m25.7 MB/s\u001b[0m eta \u001b[36m0:00:00\u001b[0m\n",
            "\u001b[?25hInstalling collected packages: tiktoken, openai, langchain_openai\n",
            "  Attempting uninstall: openai\n",
            "    Found existing installation: openai 1.54.5\n",
            "    Uninstalling openai-1.54.5:\n",
            "      Successfully uninstalled openai-1.54.5\n",
            "Successfully installed langchain_openai-0.2.12 openai-1.57.4 tiktoken-0.8.0\n"
          ]
        }
      ]
    },
    {
      "cell_type": "code",
      "source": [
        "import base64\n",
        "import os\n",
        "import getpass\n",
        "def _set_env(var: str):\n",
        "    if not os.environ.get(var):\n",
        "        os.environ[var] = getpass.getpass(f\"{var}: \")\n",
        "\n",
        "_set_env(\"OPENAI_API_KEY\")"
      ],
      "metadata": {
        "id": "pJSw9Tc_0pRN",
        "outputId": "80aab3a7-022c-4f9c-841d-a7fbad818a34",
        "colab": {
          "base_uri": "https://localhost:8080/"
        }
      },
      "execution_count": 3,
      "outputs": [
        {
          "name": "stdout",
          "output_type": "stream",
          "text": [
            "OPENAI_API_KEY: ··········\n"
          ]
        }
      ]
    },
    {
      "cell_type": "code",
      "source": [
        "import os\n",
        "import sys\n",
        "\n",
        "import openai\n",
        "from langchain_core.prompts import PromptTemplate\n",
        "from langchain_openai import ChatOpenAI\n",
        "\n",
        "# Set up your OpenAI API key here\n",
        "openai.api_key = os.getenv(\"OPENAI_API_KEY\")\n",
        "model_name=\"gpt-4o\"\n",
        "def read_file(file_path):\n",
        "    \"\"\"\n",
        "    Reads the content of a file.\n",
        "    \"\"\"\n",
        "    try:\n",
        "        with open(file_path, 'r', encoding='utf-8') as file:\n",
        "            return file.read()\n",
        "    except Exception as e:\n",
        "        print(f\"Error reading file {file_path}: {e}\")\n",
        "        sys.exit(1)\n",
        "\n",
        "def calculate_similarity(job_description, resume):\n",
        "    \"\"\"\n",
        "    Uses OpenAI's GPT model to calculate the similarity score between job description and resume.\n",
        "    \"\"\"\n",
        "    llm = ChatOpenAI(model=model_name, api_key=openai.api_key, temperature=0.5, max_tokens=50)\n",
        "    #llm = ChatOllama(model=model_name,temperature=0.5)\n",
        "    prompt = PromptTemplate(\n",
        "        input_variables=[\"job_description\",\"resume\"],\n",
        "        template=\"\"\"\n",
        "        Job Description:\\n{job_description}\\n\\nResume:\\n{resume}\\n\\nRate the similarity between the job description and the resume on a scale from 0 to 1, where 1 means a perfect match and 0 means no match. Print only a value between 0 to 1.\n",
        "        \"\"\"\n",
        "    )\n",
        "\n",
        "    try:\n",
        "        response = llm.invoke(prompt.format(job_description=job_description,\n",
        "                                            resume=resume))\n",
        "        print(response.content)\n",
        "        return float(response.content)\n",
        "    except Exception as e:\n",
        "        print(f\"Error with OpenAI API: {e}\")\n",
        "        sys.exit(1)\n",
        "\n",
        "\n",
        "\n",
        "def generate_improvement_suggestions(job_description, resume):\n",
        "    \"\"\"\n",
        "    Uses OpenAI's GPT model to generate suggestions for improving the resume.\n",
        "    \"\"\"\n",
        "    llm = ChatOpenAI(model=model_name, api_key=openai.api_key, temperature=0.7, max_tokens=150)\n",
        "    #llm = ChatOllama(model=model_name, temperature=0.7)\n",
        "    prompt = PromptTemplate(\n",
        "        input_variables=[\"job_description\", \"resume\"],\n",
        "        template=\"\"\"\n",
        "            Job Description:\\n{job_description}\\n\\nResume:\\n{resume}\\n\\nProvide detailed suggestions on how to improve the resume to better match the job description.\n",
        "            \"\"\"\n",
        "    )\n",
        "    try:\n",
        "        response = llm.invoke(prompt.format(job_description=job_description,\n",
        "                                            resume=resume))\n",
        "        suggestions = response.content\n",
        "        return suggestions\n",
        "    except Exception as e:\n",
        "        print(f\"Error with OpenAI API: {e}\")\n",
        "        sys.exit(1)\n",
        "\n",
        "if __name__ == \"__main__\":\n",
        "\n",
        "    job_description = input(\"Enter the Job Description text: \").strip()\n",
        "    resume = input(\"Enter the Resume text: \").strip()\n",
        "\n",
        "    # Calculate similarity score\n",
        "    similarity_score = calculate_similarity(job_description, resume)\n",
        "    print(f\"Similarity Score: {similarity_score:.2f}\")\n",
        "\n",
        "    # Provide improvement suggestions if the score is below 0.7\n",
        "    if similarity_score < 0.7:\n",
        "        print(\"\\nSuggestions to Improve Resume:\")\n",
        "        suggestions = generate_improvement_suggestions(job_description, resume)\n",
        "        print(suggestions)\n",
        "    else:\n",
        "        print(\"\\nThe resume is a good match for the job description.\")\n"
      ],
      "metadata": {
        "id": "UBUPW0dO0UVr",
        "outputId": "6d83f0a3-7d07-460d-b9de-586a342c3d29",
        "colab": {
          "base_uri": "https://localhost:8080/"
        }
      },
      "execution_count": 9,
      "outputs": [
        {
          "output_type": "stream",
          "name": "stdout",
          "text": [
            "Enter the Job Description text: Job Title: Principal Engineer - Fintech  Location: [City/Remote]  Employment Type: Full-time About Us  [Fintech Company Name] is a fast-growing fintech company revolutionizing the way individuals and businesses manage their finances. We leverage cutting-edge technology to provide seamless, secure, and personalized financial solutions. Join us in building innovative products that empower millions of users globally. Role Overview  As a Principal Engineer, you will play a pivotal role in shaping the technology roadmap and architecture for our core fintech products. You will collaborate with cross-functional teams to design, build, and scale solutions that ensure high availability, performance, and security. This is an opportunity to work on complex challenges in financial technology and contribute to industry-leading innovation. Key Responsibilities      Architect and Design Solutions: Lead the design and architecture of scalable, robust, and secure systems for payment processing, lending platforms, digital wallets, and more.     Technical Leadership: Mentor and guide engineering teams, fostering best practices in coding, design, and DevOps.     Problem Solving: Identify bottlenecks and drive innovative solutions to complex technical challenges.     Collaboration: Work closely with product managers, designers, and other stakeholders to align technical solutions with business goals.     Code Development: Contribute to critical codebases, ensuring high-quality standards through reviews and hands-on coding.     Security and Compliance: Ensure all systems comply with industry standards (e.g., PCI-DSS, GDPR) and implement best-in-class security practices.     Stay Ahead: Research and integrate emerging technologies to maintain a competitive edge in the fintech space.  Qualifications      Education: Bachelor’s or Master’s degree in Computer Science, Engineering, or related field.     Experience:         10+ years of software engineering experience, with at least 3 years in a senior/architectural role.         Proven track record of building and scaling financial systems, such as payment gateways, fraud detection, or blockchain solutions.     Technical Skills:         Expertise in backend development with languages such as Java, Python, Go, or similar.         Deep understanding of microservices architecture, distributed systems, and cloud platforms (AWS, Azure, GCP).         Strong knowledge of databases (SQL/NoSQL) and caching technologies.         Familiarity with event-driven systems (Kafka, RabbitMQ) and API design (REST, GraphQL).     Problem-Solving: Strong analytical and debugging skills with a hands-on approach to tackling challenges.     Soft Skills: Excellent communication and leadership abilities, with a knack for working in dynamic and collaborative environments.  Nice-to-Have      Experience in AI/ML for financial applications (e.g., credit scoring, fraud detection).     Knowledge of blockchain technologies and decentralized finance (DeFi).     Certifications in cloud platforms (e.g., AWS Solutions Architect, GCP Professional Architect).  What We Offer      Competitive salary and equity options.     Opportunity to work on cutting-edge technology in the fintech industry.     Flexible working hours and remote work options.     Comprehensive health and wellness benefits.     A collaborative and inclusive work culture.  Join us and be a part of shaping the future of fintech!\n",
            "Enter the Resume text: [Your Full Name]   [Your Address] (Optional) | [Your City, State, ZIP] (Optional) | [Your Email Address] | [Your Phone Number] | [LinkedIn Profile] (Optional) | [Portfolio/GitHub] (Optional)    ---  ### PROFESSIONAL SUMMARY [2-3 concise sentences summarizing your career highlights, key skills, and how you align with the job description.]   Example:   Results-driven software engineer with 10+ years of experience in backend development, distributed systems, and cloud-based solutions. Proven track record of designing scalable microservices and delivering high-impact fintech solutions. Strong expertise in Python, Java, and AWS.    ---  ### TECHNICAL SKILLS - **Programming Languages**: [List of programming languages, e.g., Python, Java, Go]   - **Frameworks/Tools**: [E.g., Spring Boot, Django, Flask]   - **Cloud Platforms**: [E.g., AWS, GCP, Azure]   - **Databases**: [E.g., MySQL, PostgreSQL, MongoDB]   - **Other Skills**: [E.g., Docker, Kubernetes, REST APIs, GraphQL, Agile methodologies]    ---  ### PROFESSIONAL EXPERIENCE  **Job Title** – [Company Name], [City, State]   [Month/Year] – [Month/Year] (or *Present*)   - Led the design and implementation of [specific project/system], resulting in [quantifiable outcome, e.g., 30% improvement in system efficiency].   - Developed and deployed [specific tools/technologies] to enhance [specific aspect, e.g., security, performance].   - Collaborated with cross-functional teams to deliver [specific outcomes, e.g., fintech applications, payment solutions].   - Integrated [specific technology] to streamline [specific process], achieving [measurable results].    **Job Title** – [Company Name], [City, State]   [Month/Year] – [Month/Year]   - Spearheaded [specific initiative, e.g., migration to microservices architecture], reducing downtime by [percentage].   - Built [specific applications or features] to support [business goals, e.g., fraud detection, scalability].   - Conducted [specific tasks, e.g., code reviews, mentoring] to improve overall team performance.    ---  ### EDUCATION **Degree Title** – [University Name], [City, State]   [Month/Year] – [Month/Year]   Relevant Courses: [If applicable, list coursework aligned with job requirements, e.g., Data Structures, Machine Learning]    ---  ### CERTIFICATIONS (Optional) - [Certification Name], [Issuing Organization], [Year] (e.g., AWS Solutions Architect)   - [Certification Name], [Issuing Organization], [Year]    ---  ### PROJECTS (Optional) **Project Title** – [Brief description]   - [What you did, technologies used, and impact/results achieved.]   Example:   Developed a scalable payment gateway system using Python and AWS, handling 1M+ transactions daily.    ---  ### ADDITIONAL INFORMATION (Optional) - Languages: [E.g., English (fluent), Hindi (native)]   - Interests: [Optional, but keep professional, e.g., Open-source contributions, Blogging about AI/ML]  \n",
            "0.8\n",
            "Similarity Score: 0.80\n",
            "\n",
            "The resume is a good match for the job description.\n"
          ]
        }
      ]
    }
  ],
  "metadata": {
    "colab": {
      "name": "Welcome To Colab",
      "toc_visible": true,
      "provenance": [],
      "include_colab_link": true
    },
    "kernelspec": {
      "display_name": "Python 3",
      "name": "python3"
    }
  },
  "nbformat": 4,
  "nbformat_minor": 0
}